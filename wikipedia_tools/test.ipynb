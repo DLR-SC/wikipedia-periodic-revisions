{
 "cells": [
  {
   "cell_type": "code",
   "execution_count": null,
   "metadata": {},
   "outputs": [],
   "source": [
    "pip install ../\n"
   ]
  },
  {
   "cell_type": "code",
   "execution_count": null,
   "metadata": {},
   "outputs": [],
   "source": [
    "from wikipedia_tools.scraper.revision_extractor import process_page_revisions\n",
    "from wikipedia_tools.scraper.wikirevparser_with_time import ProcessRevisions\n",
    "import datetime\n"
   ]
  },
  {
   "cell_type": "code",
   "execution_count": null,
   "metadata": {},
   "outputs": [],
   "source": [
    "parser_instance = ProcessRevisions(\"en\", \"Wikipedia\",  datetime.datetime(day =25, month=8, year=2023), datetime.datetime.now())"
   ]
  },
  {
   "cell_type": "code",
   "execution_count": null,
   "metadata": {},
   "outputs": [],
   "source": [
    "parser_instance.wikipedia_page()\n"
   ]
  },
  {
   "cell_type": "code",
   "execution_count": null,
   "metadata": {},
   "outputs": [],
   "source": [
    "data = parser_instance.parse_revisions()"
   ]
  },
  {
   "cell_type": "code",
   "execution_count": null,
   "metadata": {},
   "outputs": [],
   "source": [
    "\n",
    "#import requests\n",
    "from lxml import html\n",
    "\n",
    "html_page = parser_instance.page.html()\n",
    "document = html.document_fromstring(html_page)"
   ]
  },
  {
   "cell_type": "code",
   "execution_count": null,
   "metadata": {},
   "outputs": [],
   "source": [
    "\n",
    "\n",
    "\n",
    "sections = []\n",
    "paragraphs = []\n",
    "for s in document.xpath('//h2'):\n",
    "    print(\"SECTION CONTENT\")\n",
    "    counter = 0\n",
    "    for p in s.xpath('//p'):\n",
    "        print(f\"{counter}\", p.text_content())\n",
    "        counter = counter +1\n",
    "    \n",
    "    \n",
    "\n",
    "paragraphs[:2]"
   ]
  },
  {
   "cell_type": "code",
   "execution_count": null,
   "metadata": {},
   "outputs": [],
   "source": [
    "import mwparserfromhell\n",
    "\n",
    "# Parse the page\n",
    "page = mwparserfromhell.parse(html_page)\n",
    "section_titles = []\n",
    "pars = []\n",
    "# Iterate over all sections\n",
    "for section in page.filter_tags(recursive=False):\n",
    "    print(section.tag)\n",
    "    if section.tag == 'h2': # Check if this is a section tag\n",
    "        section_titles.append(section.value) # Print the section title\n",
    "        for para in section.findall('.//p'): # Find all paragraphs inside this section\n",
    "            pars.append(para.value) # Print each paragraph"
   ]
  },
  {
   "cell_type": "code",
   "execution_count": null,
   "metadata": {},
   "outputs": [],
   "source": [
    "html_page"
   ]
  },
  {
   "cell_type": "code",
   "execution_count": null,
   "metadata": {},
   "outputs": [],
   "source": []
  }
 ],
 "metadata": {
  "kernelspec": {
   "display_name": "Python 3",
   "language": "python",
   "name": "python3"
  },
  "language_info": {
   "codemirror_mode": {
    "name": "ipython",
    "version": 3
   },
   "file_extension": ".py",
   "mimetype": "text/x-python",
   "name": "python",
   "nbconvert_exporter": "python",
   "pygments_lexer": "ipython3",
   "version": "3.11.2"
  },
  "orig_nbformat": 4
 },
 "nbformat": 4,
 "nbformat_minor": 2
}
