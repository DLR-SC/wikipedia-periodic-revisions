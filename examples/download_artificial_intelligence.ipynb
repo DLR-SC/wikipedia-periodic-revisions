{
 "cells": [
  {
   "cell_type": "code",
   "execution_count": null,
   "id": "ad0f17f8",
   "metadata": {},
   "outputs": [],
   "source": [
    "! pip install -q -U wikipedia_tools"
   ]
  },
  {
   "cell_type": "code",
   "execution_count": null,
   "id": "a8f296d2",
   "metadata": {},
   "outputs": [],
   "source": [
    "from datetime import datetime\n",
    "\n",
    "from wikipedia_tools.scraper import downloader\n",
    "from wikipedia_tools.scraper import revision_extractor as re\n",
    "from wikipedia_tools.scraper import category_extractor as ce\n",
    "from wikipedia_tools.utils import utils\n",
    "import pandas as pd\n",
    "from datetime import datetime\n",
    "\n",
    "import importlib, sys, os\n",
    "\n",
    "import pandas as pd\n",
    "import numpy as np\n",
    "import json\n",
    "import seaborn as sns\n",
    "import matplotlib.pyplot as plt\n",
    "import matplotlib.dates as mdates\n",
    "\n",
    "import matplotlib.pyplot as plt\n",
    "from wikipedia_tools.processor import loader, processor\n",
    "from wikipedia_tools.utils import utils, properties\n",
    "from wikipedia_tools.analyzer import feature_extractor as fe\n",
    "from wikipedia_tools.analyzer import numbers_over_time as overtime"
   ]
  },
  {
   "cell_type": "markdown",
   "id": "b3d948fa",
   "metadata": {},
   "source": [
    "# Downloading wikipedia revisions\n",
    "\n",
    "Download Wikipedia Articles Revisions by specifiying the `categories`, `from/to` timestamps of the revisions and where to save them (`root_folder`)"
   ]
  },
  {
   "cell_type": "code",
   "execution_count": null,
   "id": "d62e8a07",
   "metadata": {},
   "outputs": [],
   "source": [
    "\n",
    "wikirevs= downloader.WikiPagesRevision( \n",
    "    categories = [\"Artificial_intelligence\"], \n",
    "    revisions_from=datetime(year=2001, month=1, day=1),\n",
    "    revisions_to=datetime(year=2023, month=8, day=1),\n",
    "    save_each_page= True,\n",
    "    category_depth = 1,\n",
    "    out_version=\"parquet\",\n",
    "    root_folder=\"out/wikipedia_dump\")\n",
    "# wikirevs.download()"
   ]
  },
  {
   "cell_type": "markdown",
   "id": "193c23be",
   "metadata": {},
   "source": [
    "## Overview Stats for a Category"
   ]
  },
  {
   "cell_type": "code",
   "execution_count": null,
   "id": "45b14943",
   "metadata": {},
   "outputs": [],
   "source": [
    "CORPUS = os.path.join(\"out\", \"wikipedia_dump\")\n",
    "category=\"Artificial_intelligence\"\n",
    "ROOT_PATH =os.path.join( \"../data\", category, \"processed\")"
   ]
  },
  {
   "cell_type": "code",
   "execution_count": null,
   "id": "cb62d7cf",
   "metadata": {},
   "outputs": [],
   "source": [
    "# Preprocess\n",
    "import wikipedia_tools.processor as proc\n",
    "proc.processor.batch_revisions_per_period(\n",
    "        period=\"%m-%Y\",\n",
    "        desc=\"monthly\",\n",
    "        category=category,\n",
    "        corpus=CORPUS,\n",
    "        destination=ROOT_PATH,\n",
    "    )"
   ]
  },
  {
   "cell_type": "code",
   "execution_count": null,
   "id": "b57d40c0",
   "metadata": {},
   "outputs": [],
   "source": [
    "CONSTANTS = properties._CONSTANTS_(ROOT_PATH=ROOT_PATH, CORPUS=CORPUS)"
   ]
  },
  {
   "cell_type": "code",
   "execution_count": null,
   "id": "6e95b7e6",
   "metadata": {},
   "outputs": [],
   "source": [
    "yearly_data= processor.get_wikipedia_page_periodic_overview(\n",
    "    period=properties.DATE_YEAR,\n",
    "    desc=\"YEAR\",\n",
    "    category=category,\n",
    "    corpus=CORPUS,\n",
    "    root=ROOT_PATH,\n",
    ")\n"
   ]
  },
  {
   "cell_type": "code",
   "execution_count": null,
   "id": "d1685c48",
   "metadata": {},
   "outputs": [],
   "source": [
    "from wikipedia_tools.analyzer.revisions import WikipediaRevisionAnalyzer\n",
    "analyzer = WikipediaRevisionAnalyzer(\n",
    "    category = category,\n",
    "    period = properties.PERIODS._YEARLY_,\n",
    "    corpus = CORPUS,\n",
    "    root = ROOT_PATH\n",
    ")"
   ]
  },
  {
   "cell_type": "code",
   "execution_count": null,
   "id": "3d1f1d10",
   "metadata": {},
   "outputs": [],
   "source": [
    "unique_created_updated_articles = analyzer.get_edited_page_count(plot=True, save=True)"
   ]
  },
  {
   "cell_type": "code",
   "execution_count": null,
   "id": "49fd5330",
   "metadata": {},
   "outputs": [],
   "source": [
    "unique_created_articles = analyzer.get_created_page_count(plot=True, save=True)"
   ]
  },
  {
   "cell_type": "code",
   "execution_count": null,
   "id": "60c016d4",
   "metadata": {},
   "outputs": [],
   "source": [
    "rev_overtime_df = analyzer.get_revisions_over_time(save=True)"
   ]
  },
  {
   "cell_type": "code",
   "execution_count": null,
   "id": "aa5074ad",
   "metadata": {},
   "outputs": [],
   "source": [
    "words_overtime_df = analyzer.get_words_over_time(save=True)"
   ]
  },
  {
   "cell_type": "code",
   "execution_count": null,
   "id": "f76fb6f0",
   "metadata": {},
   "outputs": [],
   "source": [
    "users_overtime_df = analyzer.get_users_over_time(save=True)"
   ]
  },
  {
   "cell_type": "code",
   "execution_count": null,
   "id": "7536d9f6",
   "metadata": {},
   "outputs": [],
   "source": [
    "top_edited = analyzer.get_most_edited_articles(top=4)"
   ]
  },
  {
   "cell_type": "code",
   "execution_count": null,
   "id": "74990c0e",
   "metadata": {},
   "outputs": [],
   "source": [
    "most_to_least_revised = analyzer.get_periodic_most_to_least_revised(save=True)\n"
   ]
  }
 ],
 "metadata": {
  "kernelspec": {
   "display_name": "Python 3 (ipykernel)",
   "language": "python",
   "name": "python3"
  },
  "language_info": {
   "codemirror_mode": {
    "name": "ipython",
    "version": 3
   },
   "file_extension": ".py",
   "mimetype": "text/x-python",
   "name": "python",
   "nbconvert_exporter": "python",
   "pygments_lexer": "ipython3",
   "version": "3.11.2"
  }
 },
 "nbformat": 4,
 "nbformat_minor": 5
}
